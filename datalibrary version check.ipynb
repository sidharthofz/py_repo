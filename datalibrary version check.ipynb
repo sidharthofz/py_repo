{
 "cells": [
  {
   "cell_type": "code",
   "execution_count": 2,
   "id": "e47834cc-14b9-4562-aefd-45f4df193404",
   "metadata": {},
   "outputs": [
    {
     "name": "stdout",
     "output_type": "stream",
     "text": [
      "numpy version: 2.0.2\n",
      "pandas version: 2.3.0+4.g1dfc98e16a\n",
      "matplotlib version: 3.9.4\n",
      "scipy version: 1.13.1\n",
      "seaborn version: 0.13.2\n",
      "statsmodels version: 0.14.4\n",
      "researchpy version: ['0.3.6']\n",
      "pingouin version: 0.5.5\n",
      "scikit-learn version: 1.6.1\n"
     ]
    }
   ],
   "source": [
    "# To run this file properly, ensure the following packages are installed:\n",
    "# pip install numpy pandas matplotlib scipy seaborn statsmodels researchpy pingouin scikit-learn\n",
    "\n",
    "import numpy\n",
    "import pandas\n",
    "import matplotlib\n",
    "import scipy\n",
    "import seaborn\n",
    "import statsmodels\n",
    "import researchpy\n",
    "import pingouin\n",
    "import sklearn\n",
    "\n",
    "print(f\"numpy version: {numpy.__version__}\")\n",
    "print(f\"pandas version: {pandas.__version__}\")\n",
    "print(f\"matplotlib version: {matplotlib.__version__}\")\n",
    "print(f\"scipy version: {scipy.__version__}\")\n",
    "print(f\"seaborn version: {seaborn.__version__}\")\n",
    "print(f\"statsmodels version: {statsmodels.__version__}\")\n",
    "print(f\"researchpy version: {researchpy.__version__}\")\n",
    "print(f\"pingouin version: {pingouin.__version__}\")\n",
    "print(f\"scikit-learn version: {sklearn.__version__}\")\n"
   ]
  },
  {
   "cell_type": "code",
   "execution_count": null,
   "id": "07d2374a-e1ab-405e-9c8b-49addd819e50",
   "metadata": {},
   "outputs": [],
   "source": []
  }
 ],
 "metadata": {
  "kernelspec": {
   "display_name": "Python 3 (ipykernel)",
   "language": "python",
   "name": "python3"
  },
  "language_info": {
   "codemirror_mode": {
    "name": "ipython",
    "version": 3
   },
   "file_extension": ".py",
   "mimetype": "text/x-python",
   "name": "python",
   "nbconvert_exporter": "python",
   "pygments_lexer": "ipython3",
   "version": "3.9.6"
  }
 },
 "nbformat": 4,
 "nbformat_minor": 5
}
