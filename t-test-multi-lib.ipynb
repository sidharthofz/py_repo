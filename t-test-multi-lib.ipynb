{
 "cells": [
  {
   "cell_type": "code",
   "execution_count": 10,
   "id": "7e9f325e-c972-40e7-bfde-5cb09aa2521c",
   "metadata": {},
   "outputs": [],
   "source": [
    "# Standard library\n",
    "import math\n",
    "\n",
    "# Data handling\n",
    "import numpy as np\n",
    "import pandas as pd\n",
    "\n",
    "# Visualization\n",
    "import seaborn as sns\n",
    "\n",
    "# Statistical functions\n",
    "from scipy.stats import t\n",
    "from scipy.stats import ttest_1samp"
   ]
  },
  {
   "cell_type": "code",
   "execution_count": 11,
   "id": "30ad6902-7e32-4e09-b4a4-f2ecdad5da33",
   "metadata": {},
   "outputs": [],
   "source": [
    "def t_test(mean, mu, std, n_samples):\n",
    "    test_score = (mean - mu) / (std / np.sqrt(n_samples))\n",
    "\n",
    "    p_value =  t.sf(abs(test_score), n_samples -1) *2 \n",
    "\n",
    "    print(\"One Sample t-test\")\n",
    "    print(\"t-score \", test_score, \"p-value: \",p_value)"
   ]
  },
  {
   "cell_type": "code",
   "execution_count": 12,
   "id": "266a9901-a85b-429d-9c9a-3315dee9df57",
   "metadata": {},
   "outputs": [],
   "source": [
    "employee_age_mean = 35 \n",
    "employee_age_sd = 7\n",
    "\n",
    "n_samples = 25"
   ]
  },
  {
   "cell_type": "code",
   "execution_count": 13,
   "id": "06240e39-ef99-46cb-8541-6be68c416ebc",
   "metadata": {},
   "outputs": [
    {
     "data": {
      "text/plain": [
       "array([32.42209803, 38.98974186, 34.58014072, 33.64013693, 40.88980041,\n",
       "       47.68868056, 42.41707508, 26.86033119, 37.96570523, 46.83338666,\n",
       "       40.70435269, 34.6787172 , 40.78110813, 25.26084189, 30.51316551,\n",
       "       33.18733895, 31.19690495, 27.30757485, 29.97478622, 38.89389387,\n",
       "       42.02952193, 31.2988617 , 37.95791422, 36.16016858, 38.46299203])"
      ]
     },
     "execution_count": 13,
     "metadata": {},
     "output_type": "execute_result"
    }
   ],
   "source": [
    "employee_ages = np.random.default_rng().normal(employee_age_mean,employee_age_sd,n_samples)\n",
    "\n",
    "employee_ages"
   ]
  },
  {
   "cell_type": "code",
   "execution_count": 14,
   "id": "e1d0010b-433d-4a8a-9863-76b1251b9a0e",
   "metadata": {},
   "outputs": [
    {
     "data": {
      "text/html": [
       "<div>\n",
       "<style scoped>\n",
       "    .dataframe tbody tr th:only-of-type {\n",
       "        vertical-align: middle;\n",
       "    }\n",
       "\n",
       "    .dataframe tbody tr th {\n",
       "        vertical-align: top;\n",
       "    }\n",
       "\n",
       "    .dataframe thead th {\n",
       "        text-align: right;\n",
       "    }\n",
       "</style>\n",
       "<table border=\"1\" class=\"dataframe\">\n",
       "  <thead>\n",
       "    <tr style=\"text-align: right;\">\n",
       "      <th></th>\n",
       "      <th>age</th>\n",
       "    </tr>\n",
       "  </thead>\n",
       "  <tbody>\n",
       "    <tr>\n",
       "      <th>11</th>\n",
       "      <td>34.678717</td>\n",
       "    </tr>\n",
       "    <tr>\n",
       "      <th>1</th>\n",
       "      <td>38.989742</td>\n",
       "    </tr>\n",
       "    <tr>\n",
       "      <th>5</th>\n",
       "      <td>47.688681</td>\n",
       "    </tr>\n",
       "    <tr>\n",
       "      <th>20</th>\n",
       "      <td>42.029522</td>\n",
       "    </tr>\n",
       "    <tr>\n",
       "      <th>0</th>\n",
       "      <td>32.422098</td>\n",
       "    </tr>\n",
       "  </tbody>\n",
       "</table>\n",
       "</div>"
      ],
      "text/plain": [
       "          age\n",
       "11  34.678717\n",
       "1   38.989742\n",
       "5   47.688681\n",
       "20  42.029522\n",
       "0   32.422098"
      ]
     },
     "execution_count": 14,
     "metadata": {},
     "output_type": "execute_result"
    }
   ],
   "source": [
    "employee_ages_df = pd.DataFrame({\"age\" : employee_ages})\n",
    "\n",
    "employee_ages_df.sample(5)\n"
   ]
  },
  {
   "cell_type": "code",
   "execution_count": 15,
   "id": "a9143b31-adba-42f0-bc51-2758c568cddc",
   "metadata": {},
   "outputs": [
    {
     "data": {
      "text/plain": [
       "<seaborn.axisgrid.FacetGrid at 0x148e3f940>"
      ]
     },
     "execution_count": 15,
     "metadata": {},
     "output_type": "execute_result"
    },
    {
     "data": {
      "image/png": "[encoded data removed]",
      "text/plain": [
       "<Figure size 576x500 with 1 Axes>"
      ]
     },
     "metadata": {},
     "output_type": "display_data"
    }
   ],
   "source": [
    "sns.displot(employee_ages_df,kde=True,bins=12)"
   ]
  },
  {
   "cell_type": "code",
   "execution_count": 16,
   "id": "661e415f-19cc-45ad-b7c0-bc10c9a0ccb2",
   "metadata": {},
   "outputs": [
    {
     "name": "stdout",
     "output_type": "stream",
     "text": [
      "One Sample t-test\n",
      "t-score  5.071692520577871 p-value:  3.4666540624733846e-05\n"
     ]
    }
   ],
   "source": [
    "mu=30\n",
    "\n",
    "t_test(employee_ages_df['age'].mean(),\n",
    "       mu,\n",
    "       employee_ages_df['age'].std(),\n",
    "       n_samples)"
   ]
  },
  {
   "cell_type": "code",
   "execution_count": 18,
   "id": "450f9232-8cd0-424c-a8c9-e4e810384da6",
   "metadata": {},
   "outputs": [
    {
     "data": {
      "text/plain": [
       "(np.float64(5.07169252057787), np.float64(3.466654062473395e-05))"
      ]
     },
     "execution_count": 18,
     "metadata": {},
     "output_type": "execute_result"
    }
   ],
   "source": [
    "t_statistic, p_value = ttest_1samp(employee_ages_df['age'],\n",
    "                                   mu)\n",
    "t_statistic, p_value"
   ]
  },
  {
   "cell_type": "code",
   "execution_count": null,
   "id": "0809a22c-a8e6-4026-a704-085e6c024cbf",
   "metadata": {},
   "outputs": [],
   "source": []
  }
 ],
 "metadata": {
  "kernelspec": {
   "display_name": "Python 3 (ipykernel)",
   "language": "python",
   "name": "python3"
  },
  "language_info": {
   "codemirror_mode": {
    "name": "ipython",
    "version": 3
   },
   "file_extension": ".py",
   "mimetype": "text/x-python",
   "name": "python",
   "nbconvert_exporter": "python",
   "pygments_lexer": "ipython3",
   "version": "3.9.6"
  }
 },
 "nbformat": 4,
 "nbformat_minor": 5
}
