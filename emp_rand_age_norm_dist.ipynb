{
 "cells": [
  {
   "cell_type": "code",
   "execution_count": 2,
   "id": "7e9f325e-c972-40e7-bfde-5cb09aa2521c",
   "metadata": {},
   "outputs": [],
   "source": [
    "# Standard library\n",
    "import math\n",
    "\n",
    "# Data handling\n",
    "import numpy as np\n",
    "import pandas as pd\n",
    "\n",
    "# Visualization\n",
    "import seaborn as sns\n",
    "\n",
    "# Statistical functions\n",
    "from scipy.stats import t\n",
    "from scipy.stats import ttest_1samp"
   ]
  },
  {
   "cell_type": "code",
   "execution_count": 3,
   "id": "30ad6902-7e32-4e09-b4a4-f2ecdad5da33",
   "metadata": {},
   "outputs": [],
   "source": [
    "def t_test(mean, mu, std, n_samples):\n",
    "    test_score = (mean - mu) / (std / np.sqrt(n_samples))\n",
    "\n",
    "    p_value =  t.sf(abs(test_score), n_samples -1) *2 \n",
    "\n",
    "    print(\"One Sample t-test\")\n",
    "    print(\"t-score \", test_score, \"p-value: \",p_value)"
   ]
  },
  {
   "cell_type": "code",
   "execution_count": 4,
   "id": "266a9901-a85b-429d-9c9a-3315dee9df57",
   "metadata": {},
   "outputs": [],
   "source": [
    "employee_age_mean = 35 \n",
    "employee_age_sd = 7\n",
    "\n",
    "n_samples = 25"
   ]
  },
  {
   "cell_type": "code",
   "execution_count": 5,
   "id": "06240e39-ef99-46cb-8541-6be68c416ebc",
   "metadata": {},
   "outputs": [
    {
     "data": {
      "text/plain": [
       "array([39.66441567, 36.09558396, 37.21235765, 37.29867876, 36.09876679,\n",
       "       31.30905809, 37.72381921, 34.81622573, 32.26973961, 32.19347622,\n",
       "       36.08174408, 23.99942358, 26.12662118, 35.67536194, 24.27084478,\n",
       "       41.82534081, 39.78902784, 25.72899449, 36.47922795, 41.74552263,\n",
       "       37.83348161, 28.82323607, 38.23634067, 36.28048637, 33.87677222])"
      ]
     },
     "execution_count": 5,
     "metadata": {},
     "output_type": "execute_result"
    }
   ],
   "source": [
    "employee_ages = np.random.default_rng().normal(employee_age_mean,employee_age_sd,n_samples)\n",
    "\n",
    "employee_ages"
   ]
  },
  {
   "cell_type": "code",
   "execution_count": 6,
   "id": "e1d0010b-433d-4a8a-9863-76b1251b9a0e",
   "metadata": {},
   "outputs": [
    {
     "data": {
      "text/html": [
       "<div>\n",
       "<style scoped>\n",
       "    .dataframe tbody tr th:only-of-type {\n",
       "        vertical-align: middle;\n",
       "    }\n",
       "\n",
       "    .dataframe tbody tr th {\n",
       "        vertical-align: top;\n",
       "    }\n",
       "\n",
       "    .dataframe thead th {\n",
       "        text-align: right;\n",
       "    }\n",
       "</style>\n",
       "<table border=\"1\" class=\"dataframe\">\n",
       "  <thead>\n",
       "    <tr style=\"text-align: right;\">\n",
       "      <th></th>\n",
       "      <th>age</th>\n",
       "    </tr>\n",
       "  </thead>\n",
       "  <tbody>\n",
       "    <tr>\n",
       "      <th>5</th>\n",
       "      <td>31.309058</td>\n",
       "    </tr>\n",
       "    <tr>\n",
       "      <th>20</th>\n",
       "      <td>37.833482</td>\n",
       "    </tr>\n",
       "    <tr>\n",
       "      <th>14</th>\n",
       "      <td>24.270845</td>\n",
       "    </tr>\n",
       "    <tr>\n",
       "      <th>12</th>\n",
       "      <td>26.126621</td>\n",
       "    </tr>\n",
       "    <tr>\n",
       "      <th>18</th>\n",
       "      <td>36.479228</td>\n",
       "    </tr>\n",
       "  </tbody>\n",
       "</table>\n",
       "</div>"
      ],
      "text/plain": [
       "          age\n",
       "5   31.309058\n",
       "20  37.833482\n",
       "14  24.270845\n",
       "12  26.126621\n",
       "18  36.479228"
      ]
     },
     "execution_count": 6,
     "metadata": {},
     "output_type": "execute_result"
    }
   ],
   "source": [
    "employee_ages_df = pd.DataFrame({\"age\" : employee_ages})\n",
    "\n",
    "employee_ages_df.sample(5)\n"
   ]
  },
  {
   "cell_type": "code",
   "execution_count": 7,
   "id": "a9143b31-adba-42f0-bc51-2758c568cddc",
   "metadata": {},
   "outputs": [
    {
     "data": {
      "text/plain": [
       "<seaborn.axisgrid.FacetGrid at 0x1083b6250>"
      ]
     },
     "execution_count": 7,
     "metadata": {},
     "output_type": "execute_result"
    },
    {
     "data": {
      "image/png": "[encoded data removed]",
      "text/plain": [
       "<Figure size 576x500 with 1 Axes>"
      ]
     },
     "metadata": {},
     "output_type": "display_data"
    }
   ],
   "source": [
    "sns.displot(employee_ages_df,kde=True,bins=12)"
   ]
  },
  {
   "cell_type": "code",
   "execution_count": 8,
   "id": "661e415f-19cc-45ad-b7c0-bc10c9a0ccb2",
   "metadata": {},
   "outputs": [
    {
     "name": "stdout",
     "output_type": "stream",
     "text": [
      "One Sample t-test\n",
      "t-score  4.307810339751901 p-value:  0.00024146037774181863\n"
     ]
    }
   ],
   "source": [
    "mu=30\n",
    "\n",
    "t_test(employee_ages_df['age'].mean(),mu,employee_ages_df['age'].std(),\n",
    "       n_samples)"
   ]
  },
  {
   "cell_type": "code",
   "execution_count": null,
   "id": "450f9232-8cd0-424c-a8c9-e4e810384da6",
   "metadata": {},
   "outputs": [],
   "source": []
  }
 ],
 "metadata": {
  "kernelspec": {
   "display_name": "Python 3 (ipykernel)",
   "language": "python",
   "name": "python3"
  },
  "language_info": {
   "codemirror_mode": {
    "name": "ipython",
    "version": 3
   },
   "file_extension": ".py",
   "mimetype": "text/x-python",
   "name": "python",
   "nbconvert_exporter": "python",
   "pygments_lexer": "ipython3",
   "version": "3.9.6"
  }
 },
 "nbformat": 4,
 "nbformat_minor": 5
}
