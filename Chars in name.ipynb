{
 "cells": [
  {
   "cell_type": "code",
   "execution_count": 1,
   "id": "1eb03be3-da7c-49e9-9486-f64859d78415",
   "metadata": {},
   "outputs": [
    {
     "name": "stdin",
     "output_type": "stream",
     "text": [
      "Enter your name (parts separated by space or comma):  sid\n"
     ]
    },
    {
     "name": "stdout",
     "output_type": "stream",
     "text": [
      "First name count = 3; no last name; no other components;\n"
     ]
    }
   ],
   "source": [
    "# Get name input\n",
    "name = input(\"Enter your name (parts separated by space or comma): \")\n",
    "\n",
    "# Replace commas with spaces for uniform splitting\n",
    "name = name.replace(',', ' ')\n",
    "\n",
    "# Split and remove empty parts\n",
    "parts = [p for p in name.split(' ') if p]\n",
    "\n",
    "# Count characters\n",
    "lengths = [len(part) for part in parts]\n",
    "\n",
    "# Prepare output\n",
    "if len(parts) == 0:\n",
    "    print(\"No name entered.\")\n",
    "elif len(parts) == 1:\n",
    "    print(f\"First name count = {lengths[0]}; no last name; no other components;\")\n",
    "elif len(parts) == 2:\n",
    "    print(f\"First name count = {lengths[0]}; last name count = {lengths[1]}; no other components;\")\n",
    "elif len(parts) == 3:\n",
    "    print(f\"First name count = {lengths[0]}; last name count = {lengths[2]}; middle name count = {lengths[1]};\")\n",
    "else:\n",
    "    middle_count = len(parts) - 2\n",
    "    middle_lengths = lengths[1:-1]\n",
    "    print(f\"First name count = {lengths[0]}; last name count = {lengths[-1]}; {middle_count} other component(s) having character counts: {middle_lengths};\")\n"
   ]
  },
  {
   "cell_type": "code",
   "execution_count": null,
   "id": "241eca7e-1e4a-4399-ab6f-d0c891990721",
   "metadata": {},
   "outputs": [],
   "source": []
  },
  {
   "cell_type": "code",
   "execution_count": null,
   "id": "e26f60f1-cc54-423a-9976-37a88ffd20ae",
   "metadata": {},
   "outputs": [],
   "source": []
  }
 ],
 "metadata": {
  "kernelspec": {
   "display_name": "Python 3 (ipykernel)",
   "language": "python",
   "name": "python3"
  },
  "language_info": {
   "codemirror_mode": {
    "name": "ipython",
    "version": 3
   },
   "file_extension": ".py",
   "mimetype": "text/x-python",
   "name": "python",
   "nbconvert_exporter": "python",
   "pygments_lexer": "ipython3",
   "version": "3.9.6"
  }
 },
 "nbformat": 4,
 "nbformat_minor": 5
}
